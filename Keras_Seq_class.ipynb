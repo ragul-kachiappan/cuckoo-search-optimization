{
 "cells": [
  {
   "cell_type": "code",
   "execution_count": 1,
   "metadata": {},
   "outputs": [
    {
     "name": "stderr",
     "output_type": "stream",
     "text": [
      "Using TensorFlow backend.\n",
      "/home/varna/anaconda3/envs/PhD/lib/python3.7/site-packages/tensorflow/python/framework/dtypes.py:516: FutureWarning: Passing (type, 1) or '1type' as a synonym of type is deprecated; in a future version of numpy, it will be understood as (type, (1,)) / '(1,)type'.\n",
      "  _np_qint8 = np.dtype([(\"qint8\", np.int8, 1)])\n",
      "/home/varna/anaconda3/envs/PhD/lib/python3.7/site-packages/tensorflow/python/framework/dtypes.py:517: FutureWarning: Passing (type, 1) or '1type' as a synonym of type is deprecated; in a future version of numpy, it will be understood as (type, (1,)) / '(1,)type'.\n",
      "  _np_quint8 = np.dtype([(\"quint8\", np.uint8, 1)])\n",
      "/home/varna/anaconda3/envs/PhD/lib/python3.7/site-packages/tensorflow/python/framework/dtypes.py:518: FutureWarning: Passing (type, 1) or '1type' as a synonym of type is deprecated; in a future version of numpy, it will be understood as (type, (1,)) / '(1,)type'.\n",
      "  _np_qint16 = np.dtype([(\"qint16\", np.int16, 1)])\n",
      "/home/varna/anaconda3/envs/PhD/lib/python3.7/site-packages/tensorflow/python/framework/dtypes.py:519: FutureWarning: Passing (type, 1) or '1type' as a synonym of type is deprecated; in a future version of numpy, it will be understood as (type, (1,)) / '(1,)type'.\n",
      "  _np_quint16 = np.dtype([(\"quint16\", np.uint16, 1)])\n",
      "/home/varna/anaconda3/envs/PhD/lib/python3.7/site-packages/tensorflow/python/framework/dtypes.py:520: FutureWarning: Passing (type, 1) or '1type' as a synonym of type is deprecated; in a future version of numpy, it will be understood as (type, (1,)) / '(1,)type'.\n",
      "  _np_qint32 = np.dtype([(\"qint32\", np.int32, 1)])\n",
      "/home/varna/anaconda3/envs/PhD/lib/python3.7/site-packages/tensorflow/python/framework/dtypes.py:525: FutureWarning: Passing (type, 1) or '1type' as a synonym of type is deprecated; in a future version of numpy, it will be understood as (type, (1,)) / '(1,)type'.\n",
      "  np_resource = np.dtype([(\"resource\", np.ubyte, 1)])\n",
      "/home/varna/anaconda3/envs/PhD/lib/python3.7/site-packages/tensorboard/compat/tensorflow_stub/dtypes.py:541: FutureWarning: Passing (type, 1) or '1type' as a synonym of type is deprecated; in a future version of numpy, it will be understood as (type, (1,)) / '(1,)type'.\n",
      "  _np_qint8 = np.dtype([(\"qint8\", np.int8, 1)])\n",
      "/home/varna/anaconda3/envs/PhD/lib/python3.7/site-packages/tensorboard/compat/tensorflow_stub/dtypes.py:542: FutureWarning: Passing (type, 1) or '1type' as a synonym of type is deprecated; in a future version of numpy, it will be understood as (type, (1,)) / '(1,)type'.\n",
      "  _np_quint8 = np.dtype([(\"quint8\", np.uint8, 1)])\n",
      "/home/varna/anaconda3/envs/PhD/lib/python3.7/site-packages/tensorboard/compat/tensorflow_stub/dtypes.py:543: FutureWarning: Passing (type, 1) or '1type' as a synonym of type is deprecated; in a future version of numpy, it will be understood as (type, (1,)) / '(1,)type'.\n",
      "  _np_qint16 = np.dtype([(\"qint16\", np.int16, 1)])\n",
      "/home/varna/anaconda3/envs/PhD/lib/python3.7/site-packages/tensorboard/compat/tensorflow_stub/dtypes.py:544: FutureWarning: Passing (type, 1) or '1type' as a synonym of type is deprecated; in a future version of numpy, it will be understood as (type, (1,)) / '(1,)type'.\n",
      "  _np_quint16 = np.dtype([(\"quint16\", np.uint16, 1)])\n",
      "/home/varna/anaconda3/envs/PhD/lib/python3.7/site-packages/tensorboard/compat/tensorflow_stub/dtypes.py:545: FutureWarning: Passing (type, 1) or '1type' as a synonym of type is deprecated; in a future version of numpy, it will be understood as (type, (1,)) / '(1,)type'.\n",
      "  _np_qint32 = np.dtype([(\"qint32\", np.int32, 1)])\n",
      "/home/varna/anaconda3/envs/PhD/lib/python3.7/site-packages/tensorboard/compat/tensorflow_stub/dtypes.py:550: FutureWarning: Passing (type, 1) or '1type' as a synonym of type is deprecated; in a future version of numpy, it will be understood as (type, (1,)) / '(1,)type'.\n",
      "  np_resource = np.dtype([(\"resource\", np.ubyte, 1)])\n"
     ]
    }
   ],
   "source": [
    "import keras\n",
    "from keras.models import Sequential\n",
    "from keras.layers import Dense,Activation,Dropout,BatchNormalization\n",
    "from keras.optimizers import Adam\n",
    "import numpy as np"
   ]
  },
  {
   "cell_type": "code",
   "execution_count": 2,
   "metadata": {},
   "outputs": [],
   "source": [
    "import pandas as pd\n",
    "import numpy as np\n",
    "from sklearn.preprocessing import LabelEncoder\n",
    "mydata = pd.read_csv('/home/varna/Documents/PhD/Drebin/All-train.csv')\n",
    "X_train = mydata.iloc[:,:-1].values\n",
    "Y_train = mydata.iloc[:,-1:].values\n",
    "Y_train = keras.utils.to_categorical(Y_train,num_classes =2)\n",
    "mydata = pd.read_csv('/home/varna/Documents/PhD/Drebin/All-test.csv')\n",
    "X_test = mydata.iloc[:,:-1].values\n",
    "Y_test = mydata.iloc[:,-1:].values\n",
    "Y_test = keras.utils.to_categorical(Y_test,num_classes =2)"
   ]
  },
  {
   "cell_type": "code",
   "execution_count": 3,
   "metadata": {},
   "outputs": [
    {
     "name": "stderr",
     "output_type": "stream",
     "text": [
      "WARNING: Logging before flag parsing goes to stderr.\n",
      "W0819 17:17:42.375566 139714027697984 deprecation_wrapper.py:119] From /home/varna/anaconda3/envs/PhD/lib/python3.7/site-packages/keras/backend/tensorflow_backend.py:74: The name tf.get_default_graph is deprecated. Please use tf.compat.v1.get_default_graph instead.\n",
      "\n",
      "W0819 17:17:42.392325 139714027697984 deprecation_wrapper.py:119] From /home/varna/anaconda3/envs/PhD/lib/python3.7/site-packages/keras/backend/tensorflow_backend.py:517: The name tf.placeholder is deprecated. Please use tf.compat.v1.placeholder instead.\n",
      "\n",
      "W0819 17:17:42.397483 139714027697984 deprecation_wrapper.py:119] From /home/varna/anaconda3/envs/PhD/lib/python3.7/site-packages/keras/backend/tensorflow_backend.py:4138: The name tf.random_uniform is deprecated. Please use tf.random.uniform instead.\n",
      "\n",
      "W0819 17:17:42.498584 139714027697984 deprecation_wrapper.py:119] From /home/varna/anaconda3/envs/PhD/lib/python3.7/site-packages/keras/backend/tensorflow_backend.py:133: The name tf.placeholder_with_default is deprecated. Please use tf.compat.v1.placeholder_with_default instead.\n",
      "\n",
      "W0819 17:17:42.524231 139714027697984 deprecation.py:506] From /home/varna/anaconda3/envs/PhD/lib/python3.7/site-packages/keras/backend/tensorflow_backend.py:3445: calling dropout (from tensorflow.python.ops.nn_ops) with keep_prob is deprecated and will be removed in a future version.\n",
      "Instructions for updating:\n",
      "Please use `rate` instead of `keep_prob`. Rate should be set to `rate = 1 - keep_prob`.\n"
     ]
    }
   ],
   "source": [
    "model = Sequential()\n",
    "\n",
    "model.add(Dense(activation='relu',units=100,input_dim=X_train.shape[1]))\n",
    "model.add(BatchNormalization())\n",
    "model.add(Dropout(0.5))\n",
    "\n",
    "model.add(Dense(activation='relu',units=100))\n",
    "model.add(BatchNormalization())\n",
    "model.add(Dropout(0.5))\n",
    "\n",
    "model.add(Dense(activation='relu',units=100))\n",
    "model.add(BatchNormalization())\n",
    "model.add(Dropout(0.5))\n",
    "\n",
    "model.add(Dense(activation='relu',units=100))\n",
    "model.add(BatchNormalization())\n",
    "model.add(Dropout(0.5))\n",
    "\n",
    "model.add(Dense(2,activation= 'softmax'))"
   ]
  },
  {
   "cell_type": "code",
   "execution_count": 4,
   "metadata": {},
   "outputs": [
    {
     "name": "stdout",
     "output_type": "stream",
     "text": [
      "_________________________________________________________________\n",
      "Layer (type)                 Output Shape              Param #   \n",
      "=================================================================\n",
      "dense_1 (Dense)              (None, 100)               3200      \n",
      "_________________________________________________________________\n",
      "batch_normalization_1 (Batch (None, 100)               400       \n",
      "_________________________________________________________________\n",
      "dropout_1 (Dropout)          (None, 100)               0         \n",
      "_________________________________________________________________\n",
      "dense_2 (Dense)              (None, 100)               10100     \n",
      "_________________________________________________________________\n",
      "batch_normalization_2 (Batch (None, 100)               400       \n",
      "_________________________________________________________________\n",
      "dropout_2 (Dropout)          (None, 100)               0         \n",
      "_________________________________________________________________\n",
      "dense_3 (Dense)              (None, 2)                 202       \n",
      "=================================================================\n",
      "Total params: 14,302\n",
      "Trainable params: 13,902\n",
      "Non-trainable params: 400\n",
      "_________________________________________________________________\n"
     ]
    }
   ],
   "source": [
    "model.summary()"
   ]
  },
  {
   "cell_type": "code",
   "execution_count": 5,
   "metadata": {},
   "outputs": [],
   "source": [
    "adm = Adam(lr=0.01,beta_1=0.9,beta_2=0.99,epsilon=0.1)"
   ]
  },
  {
   "cell_type": "code",
   "execution_count": 6,
   "metadata": {},
   "outputs": [
    {
     "name": "stderr",
     "output_type": "stream",
     "text": [
      "W0819 17:17:42.850087 139714027697984 deprecation_wrapper.py:119] From /home/varna/anaconda3/envs/PhD/lib/python3.7/site-packages/keras/optimizers.py:790: The name tf.train.Optimizer is deprecated. Please use tf.compat.v1.train.Optimizer instead.\n",
      "\n",
      "W0819 17:17:42.864919 139714027697984 deprecation_wrapper.py:119] From /home/varna/anaconda3/envs/PhD/lib/python3.7/site-packages/keras/backend/tensorflow_backend.py:3295: The name tf.log is deprecated. Please use tf.math.log instead.\n",
      "\n"
     ]
    }
   ],
   "source": [
    "model.compile(loss='categorical_crossentropy',optimizer=adm,metrics=['accuracy'])"
   ]
  },
  {
   "cell_type": "code",
   "execution_count": 7,
   "metadata": {},
   "outputs": [
    {
     "name": "stderr",
     "output_type": "stream",
     "text": [
      "W0819 17:17:43.016175 139714027697984 deprecation.py:323] From /home/varna/anaconda3/envs/PhD/lib/python3.7/site-packages/tensorflow/python/ops/math_grad.py:1250: add_dispatch_support.<locals>.wrapper (from tensorflow.python.ops.array_ops) is deprecated and will be removed in a future version.\n",
      "Instructions for updating:\n",
      "Use tf.where in 2.0, which has the same broadcast rule as np.where\n"
     ]
    },
    {
     "name": "stdout",
     "output_type": "stream",
     "text": [
      "Epoch 1/50\n",
      "1437/1437 [==============================] - 1s 541us/step - loss: 0.9864 - acc: 0.5609\n",
      "Epoch 2/50\n",
      "1437/1437 [==============================] - 0s 18us/step - loss: 0.8981 - acc: 0.5866\n",
      "Epoch 3/50\n",
      "1437/1437 [==============================] - 0s 20us/step - loss: 0.7519 - acc: 0.6548\n",
      "Epoch 4/50\n",
      "1437/1437 [==============================] - 0s 19us/step - loss: 0.6188 - acc: 0.7154\n",
      "Epoch 5/50\n",
      "1437/1437 [==============================] - 0s 22us/step - loss: 0.6037 - acc: 0.7523\n",
      "Epoch 6/50\n",
      "1437/1437 [==============================] - 0s 19us/step - loss: 0.4955 - acc: 0.7891\n",
      "Epoch 7/50\n",
      "1437/1437 [==============================] - 0s 17us/step - loss: 0.4043 - acc: 0.8330\n",
      "Epoch 8/50\n",
      "1437/1437 [==============================] - 0s 22us/step - loss: 0.3981 - acc: 0.8413\n",
      "Epoch 9/50\n",
      "1437/1437 [==============================] - 0s 19us/step - loss: 0.3569 - acc: 0.8699\n",
      "Epoch 10/50\n",
      "1437/1437 [==============================] - 0s 21us/step - loss: 0.3401 - acc: 0.8754\n",
      "Epoch 11/50\n",
      "1437/1437 [==============================] - 0s 18us/step - loss: 0.3101 - acc: 0.8977\n",
      "Epoch 12/50\n",
      "1437/1437 [==============================] - 0s 19us/step - loss: 0.2919 - acc: 0.9040\n",
      "Epoch 13/50\n",
      "1437/1437 [==============================] - 0s 21us/step - loss: 0.2936 - acc: 0.8914\n",
      "Epoch 14/50\n",
      "1437/1437 [==============================] - 0s 20us/step - loss: 0.2625 - acc: 0.9040\n",
      "Epoch 15/50\n",
      "1437/1437 [==============================] - 0s 19us/step - loss: 0.2703 - acc: 0.8949\n",
      "Epoch 16/50\n",
      "1437/1437 [==============================] - 0s 20us/step - loss: 0.2607 - acc: 0.9116\n",
      "Epoch 17/50\n",
      "1437/1437 [==============================] - 0s 21us/step - loss: 0.2567 - acc: 0.9158\n",
      "Epoch 18/50\n",
      "1437/1437 [==============================] - 0s 22us/step - loss: 0.2489 - acc: 0.9186\n",
      "Epoch 19/50\n",
      "1437/1437 [==============================] - 0s 22us/step - loss: 0.2177 - acc: 0.9207\n",
      "Epoch 20/50\n",
      "1437/1437 [==============================] - 0s 19us/step - loss: 0.2543 - acc: 0.9116\n",
      "Epoch 21/50\n",
      "1437/1437 [==============================] - 0s 17us/step - loss: 0.2457 - acc: 0.9221\n",
      "Epoch 22/50\n",
      "1437/1437 [==============================] - 0s 20us/step - loss: 0.2113 - acc: 0.9332\n",
      "Epoch 23/50\n",
      "1437/1437 [==============================] - 0s 22us/step - loss: 0.2287 - acc: 0.9346\n",
      "Epoch 24/50\n",
      "1437/1437 [==============================] - 0s 20us/step - loss: 0.2352 - acc: 0.9200\n",
      "Epoch 25/50\n",
      "1437/1437 [==============================] - 0s 18us/step - loss: 0.2310 - acc: 0.9235\n",
      "Epoch 26/50\n",
      "1437/1437 [==============================] - 0s 20us/step - loss: 0.2170 - acc: 0.9276\n",
      "Epoch 27/50\n",
      "1437/1437 [==============================] - 0s 20us/step - loss: 0.2049 - acc: 0.9367\n",
      "Epoch 28/50\n",
      "1437/1437 [==============================] - 0s 24us/step - loss: 0.2016 - acc: 0.9318\n",
      "Epoch 29/50\n",
      "1437/1437 [==============================] - 0s 18us/step - loss: 0.1977 - acc: 0.9360\n",
      "Epoch 30/50\n",
      "1437/1437 [==============================] - 0s 19us/step - loss: 0.1888 - acc: 0.9415\n",
      "Epoch 31/50\n",
      "1437/1437 [==============================] - 0s 22us/step - loss: 0.2091 - acc: 0.9367\n",
      "Epoch 32/50\n",
      "1437/1437 [==============================] - 0s 19us/step - loss: 0.1865 - acc: 0.9388\n",
      "Epoch 33/50\n",
      "1437/1437 [==============================] - 0s 23us/step - loss: 0.1997 - acc: 0.9422\n",
      "Epoch 34/50\n",
      "1437/1437 [==============================] - 0s 19us/step - loss: 0.1882 - acc: 0.9325\n",
      "Epoch 35/50\n",
      "1437/1437 [==============================] - 0s 21us/step - loss: 0.1887 - acc: 0.9381\n",
      "Epoch 36/50\n",
      "1437/1437 [==============================] - 0s 22us/step - loss: 0.1884 - acc: 0.9388\n",
      "Epoch 37/50\n",
      "1437/1437 [==============================] - 0s 20us/step - loss: 0.1740 - acc: 0.9429\n",
      "Epoch 38/50\n",
      "1437/1437 [==============================] - 0s 19us/step - loss: 0.1779 - acc: 0.9402\n",
      "Epoch 39/50\n",
      "1437/1437 [==============================] - 0s 22us/step - loss: 0.1698 - acc: 0.9422\n",
      "Epoch 40/50\n",
      "1437/1437 [==============================] - 0s 21us/step - loss: 0.1629 - acc: 0.9478\n",
      "Epoch 41/50\n",
      "1437/1437 [==============================] - 0s 20us/step - loss: 0.1800 - acc: 0.9415\n",
      "Epoch 42/50\n",
      "1437/1437 [==============================] - 0s 20us/step - loss: 0.1623 - acc: 0.9429\n",
      "Epoch 43/50\n",
      "1437/1437 [==============================] - 0s 18us/step - loss: 0.1699 - acc: 0.9353\n",
      "Epoch 44/50\n",
      "1437/1437 [==============================] - 0s 21us/step - loss: 0.1737 - acc: 0.9415\n",
      "Epoch 45/50\n",
      "1437/1437 [==============================] - 0s 28us/step - loss: 0.1670 - acc: 0.9402\n",
      "Epoch 46/50\n",
      "1437/1437 [==============================] - 0s 24us/step - loss: 0.1675 - acc: 0.9415\n",
      "Epoch 47/50\n",
      "1437/1437 [==============================] - 0s 24us/step - loss: 0.1693 - acc: 0.9443\n",
      "Epoch 48/50\n",
      "1437/1437 [==============================] - 0s 20us/step - loss: 0.1450 - acc: 0.9485\n",
      "Epoch 49/50\n",
      "1437/1437 [==============================] - 0s 24us/step - loss: 0.1567 - acc: 0.9457\n",
      "Epoch 50/50\n",
      "1437/1437 [==============================] - 0s 18us/step - loss: 0.1524 - acc: 0.9492\n"
     ]
    },
    {
     "data": {
      "text/plain": [
       "<keras.callbacks.History at 0x7f11601f3c10>"
      ]
     },
     "execution_count": 7,
     "metadata": {},
     "output_type": "execute_result"
    }
   ],
   "source": [
    "model.fit(X_train,Y_train,epochs=50,batch_size=512)"
   ]
  },
  {
   "cell_type": "code",
   "execution_count": 8,
   "metadata": {},
   "outputs": [
    {
     "name": "stdout",
     "output_type": "stream",
     "text": [
      "\r",
      "360/360 [==============================] - 0s 263us/step\n"
     ]
    }
   ],
   "source": [
    "score = model.evaluate(X_test,Y_test,batch_size=1024)"
   ]
  },
  {
   "cell_type": "code",
   "execution_count": 9,
   "metadata": {},
   "outputs": [
    {
     "name": "stdout",
     "output_type": "stream",
     "text": [
      "[0.14964760839939117, 0.9361110925674438]\n"
     ]
    }
   ],
   "source": [
    "print(score)"
   ]
  },
  {
   "cell_type": "code",
   "execution_count": 10,
   "metadata": {},
   "outputs": [],
   "source": [
    "pred = model.predict_classes(X_test)"
   ]
  },
  {
   "cell_type": "code",
   "execution_count": 11,
   "metadata": {},
   "outputs": [],
   "source": [
    "true = Y_test[:,1]"
   ]
  },
  {
   "cell_type": "code",
   "execution_count": 12,
   "metadata": {},
   "outputs": [],
   "source": [
    "from sklearn.metrics import confusion_matrix\n",
    "cm = confusion_matrix(y_pred=pred,y_true=true)#,labels=['Malware','Normal'])"
   ]
  },
  {
   "cell_type": "code",
   "execution_count": 13,
   "metadata": {},
   "outputs": [
    {
     "data": {
      "text/plain": [
       "array([[253,  13],\n",
       "       [ 10,  84]])"
      ]
     },
     "execution_count": 13,
     "metadata": {},
     "output_type": "execute_result"
    }
   ],
   "source": [
    "cm"
   ]
  },
  {
   "cell_type": "code",
   "execution_count": null,
   "metadata": {},
   "outputs": [],
   "source": []
  }
 ],
 "metadata": {
  "kernelspec": {
   "display_name": "Python 3",
   "language": "python",
   "name": "python3"
  },
  "language_info": {
   "codemirror_mode": {
    "name": "ipython",
    "version": 3
   },
   "file_extension": ".py",
   "mimetype": "text/x-python",
   "name": "python",
   "nbconvert_exporter": "python",
   "pygments_lexer": "ipython3",
   "version": "3.7.4"
  }
 },
 "nbformat": 4,
 "nbformat_minor": 2
}
